{
  "cells": [
    {
      "cell_type": "code",
      "execution_count": 20,
      "metadata": {},
      "outputs": [],
      "source": [
        "import requests\n",
        "import json\n",
        "from pyvis.network import Network\n",
        "from math import *"
      ]
    },
    {
      "cell_type": "code",
      "execution_count": 21,
      "metadata": {
        "id": "fuzmkBdk3hKq"
      },
      "outputs": [],
      "source": [
        "def get_data(symbol: str):\n",
        "  url = 'https://blue-api.morpho.org/graphql'\n",
        "  headers = {\n",
        "      'Accept-Encoding': 'gzip, deflate, br',\n",
        "      'Content-Type': 'application/json',\n",
        "      'Accept': 'application/json',\n",
        "      'Connection': 'keep-alive',\n",
        "      'DNT': '1',\n",
        "      'Origin': 'https://blue-api.morpho.org'\n",
        "  }\n",
        "  data = json.dumps({\n",
        "      \"query\": f\"\"\"\n",
        "      query {{\n",
        "        vaults(first:100, where: {{assetSymbol_in: [\"{symbol}\"], chainId_in: [1]}}) {{\n",
        "          items {{\n",
        "            symbol\n",
        "            state {{\n",
        "              totalAssetsUsd\n",
        "              allocation {{\n",
        "                supplyAssetsUsd\n",
        "                market {{\n",
        "                  uniqueKey\n",
        "                  state {{\n",
        "                    supplyAssetsUsd\n",
        "                  }}\n",
        "                }}\n",
        "              }}\n",
        "            }}\n",
        "          }}\n",
        "        }}\n",
        "      }}\n",
        "      \"\"\"\n",
        "  })\n",
        "\n",
        "  response = requests.post(url, headers=headers, data=data)\n",
        "  response.raise_for_status()\n",
        "  data = response.json()\n",
        "\n",
        "  return data"
      ]
    },
    {
      "cell_type": "code",
      "execution_count": 22,
      "metadata": {},
      "outputs": [],
      "source": [
        "def get_market_symbol(id):\n",
        "  url = \"https://blue-api.morpho.org/graphql\"\n",
        "  query = f\"\"\"\n",
        "    query {{\n",
        "      marketByUniqueKey(uniqueKey: \"{id}\") {{\n",
        "        loanAsset {{\n",
        "          symbol\n",
        "        }}\n",
        "        collateralAsset {{\n",
        "          symbol\n",
        "        }}\n",
        "        lltv\n",
        "      }}\n",
        "    }}\"\"\"\n",
        "  r = requests.post(url, json={'query': query})\n",
        "  r.raise_for_status()\n",
        "  data = r.json()[\"data\"][\"marketByUniqueKey\"]\n",
        "\n",
        "\n",
        "  loan = data[\"loanAsset\"][\"symbol\"]\n",
        "  lltv = float(data[\"lltv\"])/1e18\n",
        "  if data[\"collateralAsset\"] is None:\n",
        "    return f\"Idle {loan}\"\n",
        "  collat = data[\"collateralAsset\"][\"symbol\"]\n",
        "  return f\"{collat}/{loan} ({lltv})\""
      ]
    },
    {
      "cell_type": "code",
      "execution_count": 23,
      "metadata": {},
      "outputs": [],
      "source": [
        "data = get_data(\"DAI\")"
      ]
    },
    {
      "cell_type": "code",
      "execution_count": 24,
      "metadata": {
        "colab": {
          "base_uri": "https://localhost:8080/",
          "height": 805
        },
        "id": "aHOd8weo5tlT",
        "outputId": "a3157c46-4656-408b-a9ea-07411fd88bb6"
      },
      "outputs": [
        {
          "name": "stdout",
          "output_type": "stream",
          "text": [
            "bluenet.html\n"
          ]
        },
        {
          "data": {
            "text/html": [
              "\n",
              "        <iframe\n",
              "            width=\"100%\"\n",
              "            height=\"100%\"\n",
              "            src=\"bluenet.html\"\n",
              "            frameborder=\"0\"\n",
              "            allowfullscreen\n",
              "            \n",
              "        ></iframe>\n",
              "        "
            ],
            "text/plain": [
              "<IPython.lib.display.IFrame at 0x112305310>"
            ]
          },
          "execution_count": 24,
          "metadata": {},
          "output_type": "execute_result"
        }
      ],
      "source": [
        "# Create a PyVis network\n",
        "net = Network(notebook=True, height=\"100%\", width=\"100%\", bgcolor=\"#ffffff\", font_color=\"black\", directed=True, cdn_resources='in_line')\n",
        "\n",
        "# Process each vault\n",
        "for _, vault in enumerate(data['data']['vaults']['items']):\n",
        "    if 'state' in vault and 'allocation' in vault['state'] and vault['state']['allocation'] != []:\n",
        "        vault_id = vault['symbol']\n",
        "        vault_size = vault['state']['totalAssetsUsd']\n",
        "        net.add_node(vault_id, label=vault_id, title=vault_id, color='#1f78b4', size=(vault_size/1e6), mass=0)\n",
        "        for allocation in vault['state']['allocation']:\n",
        "            if 'market' in allocation and 'uniqueKey' in allocation['market']:\n",
        "                market_id = allocation['market']['uniqueKey']\n",
        "                market_title = get_market_symbol(market_id)\n",
        "                market_size = allocation['market']['state']['supplyAssetsUsd']\n",
        "                if market_size > 0:\n",
        "                    net.add_node(market_id, label=market_title, title=market_title, color='#33a02c', size=(market_size/1e6))\n",
        "                    net.add_edge(vault_id, market_id)\n",
        "\n",
        "# Set the physics layout for the network\n",
        "net.set_options(\"\"\"\n",
        "var options = {\n",
        "  \"nodes\": {\n",
        "    \"font\": {\n",
        "      \"size\": 50,\n",
        "      \"face\": \"Tahoma\",\n",
        "      \"multi\": \"html\"\n",
        "    },\n",
        "    \"labelThreshold\": 20\n",
        "  },\n",
        "  \"physics\": {\n",
        "    \"barnesHut\": {\n",
        "      \"gravitationalConstant\": -80000,\n",
        "      \"centralGravity\": 1,\n",
        "      \"springLength\": 100\n",
        "    },\n",
        "    \"minVelocity\": 0.75\n",
        "  }\n",
        "}\n",
        "\"\"\")\n",
        "\n",
        "# Generate network\n",
        "net.show(\"bluenet.html\")"
      ]
    },
    {
      "cell_type": "code",
      "execution_count": 25,
      "metadata": {},
      "outputs": [
        {
          "name": "stdout",
          "output_type": "stream",
          "text": [
            "bluenet-layers.html\n"
          ]
        },
        {
          "data": {
            "text/html": [
              "\n",
              "        <iframe\n",
              "            width=\"100%\"\n",
              "            height=\"1200px\"\n",
              "            src=\"bluenet-layers.html\"\n",
              "            frameborder=\"0\"\n",
              "            allowfullscreen\n",
              "            \n",
              "        ></iframe>\n",
              "        "
            ],
            "text/plain": [
              "<IPython.lib.display.IFrame at 0x11ad91a90>"
            ]
          },
          "execution_count": 25,
          "metadata": {},
          "output_type": "execute_result"
        }
      ],
      "source": [
        "from pyvis.network import Network\n",
        "\n",
        "scale = 1e7\n",
        "\n",
        "# Create a PyVis network with hierarchical layout\n",
        "net = Network(notebook=True, height=\"1200px\", width=\"100%\", bgcolor=\"#ffffff\", font_color=\"black\", directed=True, cdn_resources='in_line')\n",
        "\n",
        "# Process each vault\n",
        "for _, vault in enumerate(data['data']['vaults']['items']):\n",
        "    if 'state' in vault and 'allocation' in vault['state'] and vault['state']['allocation'] != []:\n",
        "        vault_id = vault['symbol']\n",
        "        vault_size = vault['state']['totalAssetsUsd']\n",
        "        net.add_node(vault_id, label=vault_id, title=vault_id, color='#1f78b4', size=(vault_size/scale), level=0)\n",
        "        \n",
        "        for allocation in vault['state']['allocation']:\n",
        "            if 'market' in allocation and 'uniqueKey' in allocation['market']:\n",
        "                market_id = allocation['market']['uniqueKey']\n",
        "                market_title = get_market_symbol(market_id)\n",
        "                market_size = allocation['market']['state']['supplyAssetsUsd']\n",
        "                # Inside the loop where we process each allocation\n",
        "                if market_size > 0:\n",
        "                    words = market_title.split()\n",
        "                    if len(words) > 1:\n",
        "                        vertical_label = '\\n'.join(words)\n",
        "                    else:\n",
        "                        vertical_label = '\\n'.join([market_title[i:i+3] for i in range(0, len(market_title), 3)])\n",
        "                    net.add_node(market_id, label=vertical_label, title=market_title, color='#33a02c', \n",
        "                                size=(market_size/scale), level=1,\n",
        "                                font={'size': 10, 'face': 'Tahoma'})\n",
        "                    \n",
        "                    # Calculate the width of the edge based on the allocation size\n",
        "                    allocation_size = allocation['supplyAssetsUsd']\n",
        "\n",
        "                    if allocation_size > 0:\n",
        "                        edge_width = allocation_size / scale / 2\n",
        "                    \n",
        "                        # Add the edge with the calculated width\n",
        "                        net.add_edge(vault_id, market_id, width=edge_width, title=f\"Allocation: {allocation_size:.2f}\")\n",
        "\n",
        "# Set the physics layout for the network\n",
        "net.set_options(\"\"\"\n",
        "var options = {\n",
        "    \"nodes\": {\n",
        "        \"font\": {\n",
        "            \"size\": 12,\n",
        "            \"face\": \"Tahoma\"\n",
        "        },\n",
        "        \"shape\": \"dot\"\n",
        "    },\n",
        "    \"edges\": {\n",
        "        \"color\": {\n",
        "            \"inherit\": true\n",
        "        },\n",
        "        \"smooth\": false,\n",
        "        \"arrows\": {\n",
        "          \"to\": {\n",
        "            \"enabled\": true,\n",
        "            \"scaleFactor\": 0.5\n",
        "          }\n",
        "        }\n",
        "    },\n",
        "    \"layout\": {\n",
        "        \"hierarchical\": {\n",
        "            \"enabled\": true,\n",
        "            \"levelSeparation\": 300,\n",
        "            \"nodeSpacing\": 200,\n",
        "            \"treeSpacing\": 200,\n",
        "            \"direction\": \"UD\",\n",
        "            \"sortMethod\": \"directed\"\n",
        "        }\n",
        "    },\n",
        "    \"physics\": {\n",
        "        \"hierarchicalRepulsion\": {\n",
        "            \"centralGravity\": 0.8,\n",
        "            \"springLength\": 150,\n",
        "            \"springConstant\": 0.05,\n",
        "            \"nodeDistance\": 250,\n",
        "            \"damping\": 0.09\n",
        "        },\n",
        "        \"minVelocity\": 0.75,\n",
        "        \"solver\": \"hierarchicalRepulsion\"\n",
        "    }\n",
        "}\n",
        "\"\"\")\n",
        "\n",
        "# Generate network\n",
        "net.show(\"bluenet-layers.html\")"
      ]
    }
  ],
  "metadata": {
    "colab": {
      "provenance": []
    },
    "kernelspec": {
      "display_name": "Python 3",
      "name": "python3"
    },
    "language_info": {
      "codemirror_mode": {
        "name": "ipython",
        "version": 3
      },
      "file_extension": ".py",
      "mimetype": "text/x-python",
      "name": "python",
      "nbconvert_exporter": "python",
      "pygments_lexer": "ipython3",
      "version": "3.11.5"
    }
  },
  "nbformat": 4,
  "nbformat_minor": 0
}
