{
  "cells": [
    {
      "cell_type": "code",
      "execution_count": null,
      "metadata": {},
      "outputs": [],
      "source": [
        "import requests\n",
        "import json\n",
        "from pyvis.network import Network\n",
        "from math import *"
      ]
    },
    {
      "cell_type": "code",
      "execution_count": null,
      "metadata": {
        "id": "fuzmkBdk3hKq"
      },
      "outputs": [],
      "source": [
        "def get_data(symbol: str):\n",
        "  url = 'https://blue-api.morpho.org/graphql'\n",
        "  headers = {\n",
        "      'Accept-Encoding': 'gzip, deflate, br',\n",
        "      'Content-Type': 'application/json',\n",
        "      'Accept': 'application/json',\n",
        "      'Connection': 'keep-alive',\n",
        "      'DNT': '1',\n",
        "      'Origin': 'https://blue-api.morpho.org'\n",
        "  }\n",
        "  data = json.dumps({\n",
        "      \"query\": f\"\"\"\n",
        "      query {{\n",
        "        vaults(first:100, where: {{assetSymbol_in: [\"{symbol}\"], chainId_in: [1]}}) {{\n",
        "          items {{\n",
        "            symbol\n",
        "            state {{\n",
        "              totalAssetsUsd\n",
        "              allocation {{\n",
        "                market {{\n",
        "                  uniqueKey\n",
        "                  state {{\n",
        "                    supplyAssetsUsd\n",
        "                  }}\n",
        "                }}\n",
        "              }}\n",
        "            }}\n",
        "          }}\n",
        "        }}\n",
        "      }}\n",
        "      \"\"\"\n",
        "  })\n",
        "\n",
        "  response = requests.post(url, headers=headers, data=data)\n",
        "  response.raise_for_status()\n",
        "  data = response.json()\n",
        "\n",
        "  return data"
      ]
    },
    {
      "cell_type": "code",
      "execution_count": null,
      "metadata": {},
      "outputs": [],
      "source": [
        "def get_market_symbol(id):\n",
        "  url = \"https://blue-api.morpho.org/graphql\"\n",
        "  query = f\"\"\"\n",
        "    query {{\n",
        "      marketByUniqueKey(uniqueKey: \"{id}\") {{\n",
        "        loanAsset {{\n",
        "          symbol\n",
        "        }}\n",
        "        collateralAsset {{\n",
        "          symbol\n",
        "        }}\n",
        "        lltv\n",
        "      }}\n",
        "    }}\"\"\"\n",
        "  r = requests.post(url, json={'query': query})\n",
        "  r.raise_for_status()\n",
        "  data = r.json()[\"data\"][\"marketByUniqueKey\"]\n",
        "\n",
        "\n",
        "  loan = data[\"loanAsset\"][\"symbol\"]\n",
        "  lltv = float(data[\"lltv\"])/1e18\n",
        "  if data[\"collateralAsset\"] is None:\n",
        "    return f\"Idle {loan}\"\n",
        "  collat = data[\"collateralAsset\"][\"symbol\"]\n",
        "  return f\"{collat}/{loan} ({lltv})\""
      ]
    },
    {
      "cell_type": "code",
      "execution_count": null,
      "metadata": {},
      "outputs": [],
      "source": [
        "data = get_data(\"USDC\")"
      ]
    },
    {
      "cell_type": "code",
      "execution_count": null,
      "metadata": {
        "colab": {
          "base_uri": "https://localhost:8080/",
          "height": 805
        },
        "id": "aHOd8weo5tlT",
        "outputId": "a3157c46-4656-408b-a9ea-07411fd88bb6"
      },
      "outputs": [],
      "source": [
        "# Create a PyVis network\n",
        "net = Network(notebook=True, height=\"100%\", width=\"100%\", bgcolor=\"#ffffff\", font_color=\"black\", directed=True, cdn_resources='in_line')\n",
        "\n",
        "# Process each vault\n",
        "for _, vault in enumerate(data['data']['vaults']['items']):\n",
        "    if 'state' in vault and 'allocation' in vault['state'] and vault['state']['allocation'] != []:\n",
        "        vault_id = vault['symbol']\n",
        "        vault_size = vault['state']['totalAssetsUsd']\n",
        "        net.add_node(vault_id, label=vault_id, title=vault_id, color='#1f78b4', size=(vault_size/1e6), mass=0)\n",
        "        for allocation in vault['state']['allocation']:\n",
        "            if 'market' in allocation and 'uniqueKey' in allocation['market']:\n",
        "                market_id = allocation['market']['uniqueKey']\n",
        "                market_title = get_market_symbol(market_id)\n",
        "                market_size = allocation['market']['state']['supplyAssetsUsd']\n",
        "                if market_size > 0:\n",
        "                    net.add_node(market_id, label=market_title, title=market_title, color='#33a02c', size=(market_size/1e6))\n",
        "                    net.add_edge(vault_id, market_id)\n",
        "\n",
        "# Set the physics layout for the network\n",
        "net.set_options(\"\"\"\n",
        "var options = {\n",
        "  \"nodes\": {\n",
        "    \"font\": {\n",
        "      \"size\": 50,\n",
        "      \"face\": \"Tahoma\",\n",
        "      \"multi\": \"html\"\n",
        "    },\n",
        "    \"labelThreshold\": 20\n",
        "  },\n",
        "  \"physics\": {\n",
        "    \"barnesHut\": {\n",
        "      \"gravitationalConstant\": -80000,\n",
        "      \"centralGravity\": 1,\n",
        "      \"springLength\": 100\n",
        "    },\n",
        "    \"minVelocity\": 0.75\n",
        "  }\n",
        "}\n",
        "\"\"\")\n",
        "\n",
        "# Generate network\n",
        "net.show(\"bluenet.html\")"
      ]
    }
  ],
  "metadata": {
    "colab": {
      "provenance": []
    },
    "kernelspec": {
      "display_name": "Python 3",
      "name": "python3"
    },
    "language_info": {
      "codemirror_mode": {
        "name": "ipython",
        "version": 3
      },
      "file_extension": ".py",
      "mimetype": "text/x-python",
      "name": "python",
      "nbconvert_exporter": "python",
      "pygments_lexer": "ipython3",
      "version": "3.11.5"
    }
  },
  "nbformat": 4,
  "nbformat_minor": 0
}
